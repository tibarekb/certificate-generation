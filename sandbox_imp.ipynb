{
 "cells": [
  {
   "cell_type": "code",
   "execution_count": 1,
   "metadata": {},
   "outputs": [
    {
     "name": "stdout",
     "output_type": "stream",
     "text": [
      "My address: 2WKJ7VNPAWA7M3BC2BTKLBLYCI2LOFS5OIQEYV3PGQVGJIPKOOAWFDGRLM\n",
      "My private key: bg6ugBWI3NPCf0WKGru6w25FfeR5WsDmh/GPzaa6hUvVlJ/VrwWB9mwi0GalhXgSNLcWXXIgTFdvNCpkoepzgQ==\n",
      "My passphrase: soccer return scare life ribbon reject wrap earth eyebrow unaware tail umbrella member butter song foil submit buzz web suggest eternal huge found able member\n"
     ]
    }
   ],
   "source": [
    "from algosdk import account, mnemonic\n",
    "\n",
    "private_key, address = account.generate_account()\n",
    "print(\"My address: {}\".format(address))\n",
    "print(\"My private key: {}\".format(private_key))\n",
    "print(\"My passphrase: {}\".format(mnemonic.from_private_key(private_key)))\n"
   ]
  },
  {
   "cell_type": "code",
   "execution_count": 3,
   "metadata": {},
   "outputs": [
    {
     "name": "stdout",
     "output_type": "stream",
     "text": [
      "Private key from mnemonic: <function to_private_key at 0x7fc1b29fc0d0> 'soccer return scare life ribbon reject wrap earth eyebrow unaware tail umbrella member butter song foil submit buzz web suggest eternal huge found able member'\n",
      "Private key from mnemonic: <function to_public_key at 0x7fc1b29fc160> 'soccer return scare life ribbon reject wrap earth eyebrow unaware tail umbrella member butter song foil submit buzz web suggest eternal huge found able member'\n"
     ]
    }
   ],
   "source": [
    "print(f\"Private key from mnemonic: {mnemonic.to_private_key} 'soccer return scare life ribbon reject wrap earth eyebrow unaware tail umbrella member butter song foil submit buzz web suggest eternal huge found able member'\")\n",
    "\n",
    "print(f\"Public key from mnemonic: {mnemonic.to_public_key} 'soccer return scare life ribbon reject wrap earth eyebrow unaware tail umbrella member butter song foil submit buzz web suggest eternal huge found able member'\")"
   ]
  },
  {
   "cell_type": "code",
   "execution_count": 4,
   "metadata": {},
   "outputs": [],
   "source": [
    "mnemo_2 = \"giraffe afford safe mule squeeze stem uncle month across image above orphan tube cook clutch steak cradle merge mad unknown cricket decrease nominee abandon inspire\"\n",
    "priv_2 = mnemonic.to_private_key(mnemo_2)\n",
    "publ_2 = mnemonic.to_public_key(mnemo_2)"
   ]
  },
  {
   "cell_type": "code",
   "execution_count": 6,
   "metadata": {},
   "outputs": [],
   "source": [
    "from algosdk.v2client import algod\n",
    "\n",
    "algod_address = \"http://localhost:4001\"\n",
    "algod_token = \"aaaaaaaaaaaaaaaaaaaaaaaaaaaaaaaaaaaaaaaaaaaaaaaaaaaaaaaaaaaaaaaa\"\n",
    "algod_client = algod.AlgodClient(algod_token, algod_address)\n"
   ]
  },
  {
   "cell_type": "code",
   "execution_count": 8,
   "metadata": {},
   "outputs": [
    {
     "name": "stdout",
     "output_type": "stream",
     "text": [
      "Account balance: 4000052000000000 microAlgos\n",
      "\n"
     ]
    }
   ],
   "source": [
    "account_info = algod_client.account_info(publ_2)\n",
    "print(\"Account balance: {} microAlgos\".format(account_info.get('amount')) + \"\\n\")\n"
   ]
  },
  {
   "cell_type": "code",
   "execution_count": 10,
   "metadata": {},
   "outputs": [
    {
     "name": "stdout",
     "output_type": "stream",
     "text": [
      "Account balance: 0 microAlgos\n",
      "\n"
     ]
    }
   ],
   "source": [
    "account_info = algod_client.account_info(address)\n",
    "print(\"Account balance: {} microAlgos\".format(account_info.get('amount')) + \"\\n\")"
   ]
  },
  {
   "cell_type": "code",
   "execution_count": 11,
   "metadata": {},
   "outputs": [],
   "source": [
    "# build transaction\n",
    "from algosdk.future import transaction\n",
    "from algosdk import constants\n",
    "\n",
    "\n",
    "params = algod_client.suggested_params()\n",
    "    # comment out the next two (2) lines to use suggested fees\n",
    "params.flat_fee = True\n",
    "params.fee = constants.MIN_TXN_FEE \n",
    "receiver = address\n",
    "note = \"Hello World\".encode()\n",
    "amount = 1000000\n",
    "unsigned_txn = transaction.PaymentTxn(publ_2, params, receiver, amount, None, note)\n"
   ]
  },
  {
   "cell_type": "code",
   "execution_count": 12,
   "metadata": {},
   "outputs": [],
   "source": [
    "# sign transaction\n",
    "signed_txn = unsigned_txn.sign(priv_2)\n"
   ]
  },
  {
   "cell_type": "code",
   "execution_count": 13,
   "metadata": {},
   "outputs": [
    {
     "name": "stdout",
     "output_type": "stream",
     "text": [
      "Successfully sent transaction with txID: VYCKG3QII3EJGBLKBSW6NBNNH6HEPPQH7XLPWHSO3PFZJOLU3D7A\n",
      "Transaction information: {\n",
      "    \"confirmed-round\": 668,\n",
      "    \"pool-error\": \"\",\n",
      "    \"sender-rewards\": 64000000000,\n",
      "    \"txn\": {\n",
      "        \"sig\": \"n6BEBc0uXemEdHg08Mbdjyeq/AreRV3iDkO3FSv6x1xGjC6G43SjWiTwBg1HZRHyZDexy3tx4O55DmjJKbv1Bg==\",\n",
      "        \"txn\": {\n",
      "            \"amt\": 1000000,\n",
      "            \"fee\": 1000,\n",
      "            \"fv\": 595,\n",
      "            \"gen\": \"sandnet-v1\",\n",
      "            \"gh\": \"ZCP0vT7l0mH4Q4rMSm7H0N17ehrAjmESfJ9qnwzCAiE=\",\n",
      "            \"lv\": 1595,\n",
      "            \"note\": \"SGVsbG8gV29ybGQ=\",\n",
      "            \"rcv\": \"2WKJ7VNPAWA7M3BC2BTKLBLYCI2LOFS5OIQEYV3PGQVGJIPKOOAWFDGRLM\",\n",
      "            \"snd\": \"I4RGNIWSDHZ527XHXPMPGO5BSA3MEZPXTFDYQZRUWBPFXRURQCVRXA2XUY\",\n",
      "            \"type\": \"pay\"\n",
      "        }\n",
      "    }\n",
      "}\n",
      "Decoded note: Hello World\n",
      "Starting Account balance: 0 microAlgos\n",
      "Amount transfered: 1000000 microAlgos\n",
      "Fee: 1000 microAlgos\n",
      "Final Account balance: 4000063998999000 microAlgos\n",
      "\n"
     ]
    }
   ],
   "source": [
    "import json\n",
    "import base64\n",
    "\n",
    "\n",
    "    #submit transaction\n",
    "txid = algod_client.send_transaction(signed_txn)\n",
    "print(\"Successfully sent transaction with txID: {}\".format(txid))\n",
    "\n",
    "    # wait for confirmation \n",
    "try:\n",
    "    confirmed_txn = transaction.wait_for_confirmation(algod_client, txid, 4)  \n",
    "except Exception as err:\n",
    "    print(err)\n",
    "    # return\n",
    "\n",
    "print(\"Transaction information: {}\".format(\n",
    "    json.dumps(confirmed_txn, indent=4)))\n",
    "print(\"Decoded note: {}\".format(base64.b64decode(\n",
    "    confirmed_txn[\"txn\"][\"txn\"][\"note\"]).decode()))\n",
    "print(\"Starting Account balance: {} microAlgos\".format(account_info.get('amount')) )\n",
    "print(\"Amount transfered: {} microAlgos\".format(amount) )    \n",
    "print(\"Fee: {} microAlgos\".format(params.fee) ) \n",
    "\n",
    "\n",
    "account_info = algod_client.account_info(publ_2)\n",
    "print(\"Final Account balance: {} microAlgos\".format(account_info.get('amount')) + \"\\n\")\n"
   ]
  },
  {
   "cell_type": "code",
   "execution_count": 15,
   "metadata": {},
   "outputs": [
    {
     "name": "stdout",
     "output_type": "stream",
     "text": [
      "Account balance: 1000001 microAlgos\n",
      "\n"
     ]
    }
   ],
   "source": [
    "account_info = algod_client.account_info(address)\n",
    "print(\"Account balance: {} microAlgos\".format(account_info.get('amount')) + \"\\n\")\n"
   ]
  },
  {
   "cell_type": "code",
   "execution_count": 17,
   "metadata": {},
   "outputs": [],
   "source": [
    "from algosdk.future.transaction import AssetConfigTxn,AssetFreezeTxn,AssetTransferTxn,wait_for_confirmation"
   ]
  },
  {
   "cell_type": "code",
   "execution_count": 18,
   "metadata": {},
   "outputs": [
    {
     "ename": "Error",
     "evalue": "Incorrect padding",
     "output_type": "error",
     "traceback": [
      "\u001b[0;31m---------------------------------------------------------------------------\u001b[0m",
      "\u001b[0;31mError\u001b[0m                                     Traceback (most recent call last)",
      "Cell \u001b[0;32mIn [18], line 24\u001b[0m\n\u001b[1;32m     10\u001b[0m txn \u001b[38;5;241m=\u001b[39m AssetConfigTxn(\n\u001b[1;32m     11\u001b[0m     sender\u001b[38;5;241m=\u001b[39mpubl_2,\n\u001b[1;32m     12\u001b[0m     sp\u001b[38;5;241m=\u001b[39mparams,\n\u001b[0;32m   (...)\u001b[0m\n\u001b[1;32m     21\u001b[0m     url\u001b[38;5;241m=\u001b[39m\u001b[38;5;124m\"\u001b[39m\u001b[38;5;124mhttps://path/to/my/asset/details\u001b[39m\u001b[38;5;124m\"\u001b[39m, \n\u001b[1;32m     22\u001b[0m     decimals\u001b[38;5;241m=\u001b[39m\u001b[38;5;241m0\u001b[39m)\n\u001b[1;32m     23\u001b[0m \u001b[38;5;66;03m# Sign with secret key of creator\u001b[39;00m\n\u001b[0;32m---> 24\u001b[0m stxn \u001b[38;5;241m=\u001b[39m txn\u001b[38;5;241m.\u001b[39msign(publ_2)\n\u001b[1;32m     25\u001b[0m \u001b[38;5;66;03m# Send the transaction to the network and retrieve the txid.\u001b[39;00m\n\u001b[1;32m     26\u001b[0m \u001b[38;5;28;01mtry\u001b[39;00m:\n",
      "File \u001b[0;32m~/Documents/MyProjects10/certificate-generation/venv/lib/python3.9/site-packages/algosdk/future/transaction.py:138\u001b[0m, in \u001b[0;36mTransaction.sign\u001b[0;34m(self, private_key)\u001b[0m\n\u001b[1;32m    128\u001b[0m \u001b[39mdef\u001b[39;00m \u001b[39msign\u001b[39m(\u001b[39mself\u001b[39m, private_key):\n\u001b[1;32m    129\u001b[0m     \u001b[39m\"\"\"\u001b[39;00m\n\u001b[1;32m    130\u001b[0m \u001b[39m    Sign the transaction with a private key.\u001b[39;00m\n\u001b[1;32m    131\u001b[0m \n\u001b[0;32m   (...)\u001b[0m\n\u001b[1;32m    136\u001b[0m \u001b[39m        SignedTransaction: signed transaction with the signature\u001b[39;00m\n\u001b[1;32m    137\u001b[0m \u001b[39m    \"\"\"\u001b[39;00m\n\u001b[0;32m--> 138\u001b[0m     sig \u001b[39m=\u001b[39m \u001b[39mself\u001b[39;49m\u001b[39m.\u001b[39;49mraw_sign(private_key)\n\u001b[1;32m    139\u001b[0m     sig \u001b[39m=\u001b[39m base64\u001b[39m.\u001b[39mb64encode(sig)\u001b[39m.\u001b[39mdecode()\n\u001b[1;32m    140\u001b[0m     authorizing_address \u001b[39m=\u001b[39m \u001b[39mNone\u001b[39;00m\n",
      "File \u001b[0;32m~/Documents/MyProjects10/certificate-generation/venv/lib/python3.9/site-packages/algosdk/future/transaction.py:172\u001b[0m, in \u001b[0;36mTransaction.raw_sign\u001b[0;34m(self, private_key)\u001b[0m\n\u001b[1;32m    162\u001b[0m \u001b[39mdef\u001b[39;00m \u001b[39mraw_sign\u001b[39m(\u001b[39mself\u001b[39m, private_key):\n\u001b[1;32m    163\u001b[0m     \u001b[39m\"\"\"\u001b[39;00m\n\u001b[1;32m    164\u001b[0m \u001b[39m    Sign the transaction.\u001b[39;00m\n\u001b[1;32m    165\u001b[0m \n\u001b[0;32m   (...)\u001b[0m\n\u001b[1;32m    170\u001b[0m \u001b[39m        bytes: signature\u001b[39;00m\n\u001b[1;32m    171\u001b[0m \u001b[39m    \"\"\"\u001b[39;00m\n\u001b[0;32m--> 172\u001b[0m     private_key \u001b[39m=\u001b[39m base64\u001b[39m.\u001b[39;49mb64decode(private_key)\n\u001b[1;32m    173\u001b[0m     txn \u001b[39m=\u001b[39m encoding\u001b[39m.\u001b[39mmsgpack_encode(\u001b[39mself\u001b[39m)\n\u001b[1;32m    174\u001b[0m     to_sign \u001b[39m=\u001b[39m constants\u001b[39m.\u001b[39mtxid_prefix \u001b[39m+\u001b[39m base64\u001b[39m.\u001b[39mb64decode(txn)\n",
      "File \u001b[0;32m/usr/lib/python3.9/base64.py:87\u001b[0m, in \u001b[0;36mb64decode\u001b[0;34m(s, altchars, validate)\u001b[0m\n\u001b[1;32m     85\u001b[0m \u001b[39mif\u001b[39;00m validate \u001b[39mand\u001b[39;00m \u001b[39mnot\u001b[39;00m re\u001b[39m.\u001b[39mfullmatch(\u001b[39mb\u001b[39m\u001b[39m'\u001b[39m\u001b[39m[A-Za-z0-9+/]*=\u001b[39m\u001b[39m{\u001b[39m\u001b[39m0,2}\u001b[39m\u001b[39m'\u001b[39m, s):\n\u001b[1;32m     86\u001b[0m     \u001b[39mraise\u001b[39;00m binascii\u001b[39m.\u001b[39mError(\u001b[39m'\u001b[39m\u001b[39mNon-base64 digit found\u001b[39m\u001b[39m'\u001b[39m)\n\u001b[0;32m---> 87\u001b[0m \u001b[39mreturn\u001b[39;00m binascii\u001b[39m.\u001b[39;49ma2b_base64(s)\n",
      "\u001b[0;31mError\u001b[0m: Incorrect padding"
     ]
    }
   ],
   "source": [
    "# CREATE ASSET\n",
    "# Get network params for transactions before every transaction.\n",
    "params = algod_client.suggested_params()\n",
    "# comment these two lines if you want to use suggested params\n",
    "# params.fee = 1000\n",
    "# params.flat_fee = True\n",
    "# Account 1 creates an asset called latinum and\n",
    "# sets Account 2 as the manager, reserve, freeze, and clawback address.\n",
    "# Asset Creation transaction\n",
    "txn = AssetConfigTxn(\n",
    "    sender=publ_2,\n",
    "    sp=params,\n",
    "    total=1,\n",
    "    default_frozen=False,\n",
    "    unit_name=\"LATINUM\",\n",
    "    asset_name=\"latinum\",\n",
    "    manager=publ_2,\n",
    "    reserve=publ_2,\n",
    "    freeze= publ_2,\n",
    "    clawback= publ_2,\n",
    "    url=\"https://path/to/my/asset/details\", \n",
    "    decimals=0)\n",
    "# Sign with secret key of creator\n",
    "stxn = txn.sign(publ_2)\n",
    "# Send the transaction to the network and retrieve the txid.\n",
    "try:\n",
    "    txid = algod_client.send_transaction(stxn)\n",
    "    print(\"Signed transaction with txID: {}\".format(txid))\n",
    "    # Wait for the transaction to be confirmed\n",
    "    confirmed_txn = wait_for_confirmation(algod_client, txid, 4)  \n",
    "    print(\"TXID: \", txid)\n",
    "    print(\"Result confirmed in round: {}\".format(confirmed_txn['confirmed-round']))   \n",
    "except Exception as err:\n",
    "    print(err)\n",
    "# Retrieve the asset ID of the newly created asset by first\n",
    "# ensuring that the creation transaction was confirmed,\n",
    "# then grabbing the asset id from the transaction.\n",
    "print(\"Transaction information: {}\".format(\n",
    "    json.dumps(confirmed_txn, indent=4)))\n",
    "# print(\"Decoded note: {}\".format(base64.b64decode(\n",
    "#     confirmed_txn[\"txn\"][\"txn\"][\"note\"]).decode()))\n"
   ]
  }
 ],
 "metadata": {
  "kernelspec": {
   "display_name": "Python 3.9.2 ('venv': venv)",
   "language": "python",
   "name": "python3"
  },
  "language_info": {
   "codemirror_mode": {
    "name": "ipython",
    "version": 3
   },
   "file_extension": ".py",
   "mimetype": "text/x-python",
   "name": "python",
   "nbconvert_exporter": "python",
   "pygments_lexer": "ipython3",
   "version": "3.9.2"
  },
  "orig_nbformat": 4,
  "vscode": {
   "interpreter": {
    "hash": "cd18d6e9dd817dad05aa62ce1c4393601a1189137e0ef789f412a86f37d351d0"
   }
  }
 },
 "nbformat": 4,
 "nbformat_minor": 2
}
